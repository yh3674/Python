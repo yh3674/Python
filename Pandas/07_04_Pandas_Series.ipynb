{
 "cells": [
  {
   "cell_type": "markdown",
   "metadata": {},
   "source": [
    "### Pandas (Second Dimension DataFrame)\n"
   ]
  },
  {
   "cell_type": "code",
   "execution_count": 65,
   "metadata": {},
   "outputs": [],
   "source": [
    "import pandas as pd\n"
   ]
  },
  {
   "cell_type": "code",
   "execution_count": 66,
   "metadata": {},
   "outputs": [
    {
     "data": {
      "text/plain": [
       "0       955542\n",
       "1        65484\n",
       "2    654654654\n",
       "3        21321\n",
       "dtype: int64"
      ]
     },
     "execution_count": 66,
     "metadata": {},
     "output_type": "execute_result"
    }
   ],
   "source": [
    "population = pd.Series([955542,65484,654654654,21321])\n",
    "population"
   ]
  },
  {
   "cell_type": "code",
   "execution_count": 67,
   "metadata": {},
   "outputs": [
    {
     "data": {
      "text/plain": [
       "서울     90000\n",
       "부산    100000\n",
       "인천     45000\n",
       "대전     39000\n",
       "dtype: int64"
      ]
     },
     "execution_count": 67,
     "metadata": {},
     "output_type": "execute_result"
    }
   ],
   "source": [
    "#index 추가 \n",
    "population = pd.Series([90000,100000,45000,39000],\n",
    "                        index = ['서울','부산','인천','대전'])\n",
    "population"
   ]
  },
  {
   "cell_type": "code",
   "execution_count": 68,
   "metadata": {},
   "outputs": [
    {
     "data": {
      "text/plain": [
       "Index(['서울', '부산', '인천', '대전'], dtype='object')"
      ]
     },
     "execution_count": 68,
     "metadata": {},
     "output_type": "execute_result"
    }
   ],
   "source": [
    "# index 확인\n",
    "population.index"
   ]
  },
  {
   "cell_type": "code",
   "execution_count": 69,
   "metadata": {},
   "outputs": [
    {
     "data": {
      "text/plain": [
       "도시\n",
       "서울     90000\n",
       "부산    100000\n",
       "인천     45000\n",
       "대전     39000\n",
       "Name: 인구, dtype: int64"
      ]
     },
     "execution_count": 69,
     "metadata": {},
     "output_type": "execute_result"
    }
   ],
   "source": [
    "# series에 name 지정\n",
    "population.name = '인구'\n",
    "population.index.name = '도시'\n",
    "population"
   ]
  },
  {
   "cell_type": "code",
   "execution_count": 70,
   "metadata": {},
   "outputs": [
    {
     "data": {
      "text/plain": [
       "도시\n",
       "서울    190000\n",
       "부산    200000\n",
       "인천    145000\n",
       "대전    139000\n",
       "Name: 인구, dtype: int64"
      ]
     },
     "execution_count": 70,
     "metadata": {},
     "output_type": "execute_result"
    }
   ],
   "source": [
    "# Series Calculation\n",
    "\n",
    "population + 100000"
   ]
  },
  {
   "cell_type": "code",
   "execution_count": 71,
   "metadata": {},
   "outputs": [
    {
     "data": {
      "text/plain": [
       "도시\n",
       "서울    90000\n",
       "인천    45000\n",
       "Name: 인구, dtype: int64"
      ]
     },
     "execution_count": 71,
     "metadata": {},
     "output_type": "execute_result"
    }
   ],
   "source": [
    "# indexing \n",
    "population[1]\n",
    "population['부산']\n",
    "\n",
    "population[[0,3,1]]\n",
    "\n",
    "population[['서울','인천']]"
   ]
  },
  {
   "cell_type": "code",
   "execution_count": 80,
   "metadata": {},
   "outputs": [
    {
     "data": {
      "text/plain": [
       "도시\n",
       "부산    100000\n",
       "Name: 인구, dtype: int64"
      ]
     },
     "execution_count": 80,
     "metadata": {},
     "output_type": "execute_result"
    }
   ],
   "source": [
    "# boolean\n",
    "population <= 170000\n",
    "\n",
    "population [(population >= 100000) & (population <= 200000)]"
   ]
  },
  {
   "cell_type": "markdown",
   "metadata": {},
   "source": [
    "### Dictionary"
   ]
  },
  {
   "cell_type": "code",
   "execution_count": 73,
   "metadata": {},
   "outputs": [
    {
     "data": {
      "text/plain": [
       "피카츄     9631\n",
       "꼬부기     3393\n",
       "파이리     1490\n",
       "이상해씨    3632\n",
       "dtype: int64"
      ]
     },
     "execution_count": 73,
     "metadata": {},
     "output_type": "execute_result"
    }
   ],
   "source": [
    "pokemon_data = {'피카츄': 9631, '꼬부기': 3393,'파이리': 1490, '이상해씨': 3632} \n",
    "\n",
    "pokemon_strength_data = pd.Series(pokemon_data)\n",
    "\n",
    "pokemon_strength_data\n"
   ]
  },
  {
   "cell_type": "code",
   "execution_count": 74,
   "metadata": {},
   "outputs": [
    {
     "data": {
      "text/plain": [
       "피카츄    10000\n",
       "꼬부기     3483\n",
       "이브이     2466\n",
       "뮤       2890\n",
       "dtype: int64"
      ]
     },
     "execution_count": 74,
     "metadata": {},
     "output_type": "execute_result"
    }
   ],
   "source": [
    "pokemon_data2 = {'피카츄': 10000, '꼬부기': 3483,'이브이': 2466, '뮤': 2890} \n",
    "pokemon_strength_data2 = pd.Series(pokemon_data2)\n",
    "pokemon_strength_data2"
   ]
  },
  {
   "cell_type": "code",
   "execution_count": 75,
   "metadata": {},
   "outputs": [
    {
     "data": {
      "text/plain": [
       "꼬부기      90.0\n",
       "뮤         NaN\n",
       "이브이       NaN\n",
       "이상해씨      NaN\n",
       "파이리       NaN\n",
       "피카츄     369.0\n",
       "dtype: float64"
      ]
     },
     "execution_count": 75,
     "metadata": {},
     "output_type": "execute_result"
    }
   ],
   "source": [
    "# 레벨업해서 올라간 공격력을 계산 \n",
    "attack = pokemon_strength_data2 - pokemon_strength_data\n",
    "attack\n",
    "# NaN "
   ]
  },
  {
   "cell_type": "code",
   "execution_count": 76,
   "metadata": {},
   "outputs": [
    {
     "data": {
      "text/plain": [
       "꼬부기     90.0\n",
       "피카츄    369.0\n",
       "dtype: float64"
      ]
     },
     "execution_count": 76,
     "metadata": {},
     "output_type": "execute_result"
    }
   ],
   "source": [
    "# 꼬부기와 피카츄만 보고싶을 때 ()\n",
    "attack[attack.notnull()]"
   ]
  },
  {
   "cell_type": "code",
   "execution_count": 77,
   "metadata": {},
   "outputs": [
    {
     "data": {
      "text/plain": [
       "꼬부기     90.0\n",
       "피카츄    369.0\n",
       "dtype: float64"
      ]
     },
     "execution_count": 77,
     "metadata": {},
     "output_type": "execute_result"
    }
   ],
   "source": [
    "# 공격력 증가율 계산\n",
    "rp = (pokemon_strength_data2 - pokemon_strength_data) / pokemon_strength_data * 100\n",
    "\n",
    "attack[attack.notnull()]"
   ]
  },
  {
   "cell_type": "code",
   "execution_count": 78,
   "metadata": {},
   "outputs": [
    {
     "data": {
      "text/plain": [
       "꼬부기      90.0\n",
       "파이리    1616.0\n",
       "피카츄     369.0\n",
       "리자몽    8888.0\n",
       "dtype: float64"
      ]
     },
     "execution_count": 78,
     "metadata": {},
     "output_type": "execute_result"
    }
   ],
   "source": [
    "# Series 데이터 갱신, 추가, 삭제\n",
    "attack['파이리'] = 1616\n",
    "attack['리자몽'] = 8888\n",
    "del attack['이상해씨']\n",
    "\n",
    "attack[attack.notnull()]"
   ]
  },
  {
   "cell_type": "code",
   "execution_count": 81,
   "metadata": {},
   "outputs": [
    {
     "data": {
      "text/plain": [
       "뮤     NaN\n",
       "이브이   NaN\n",
       "dtype: float64"
      ]
     },
     "execution_count": 81,
     "metadata": {},
     "output_type": "execute_result"
    }
   ],
   "source": [
    "attack[attack.isnull()]"
   ]
  }
 ],
 "metadata": {
  "kernelspec": {
   "display_name": "Python 3.9.12 ('base')",
   "language": "python",
   "name": "python3"
  },
  "language_info": {
   "codemirror_mode": {
    "name": "ipython",
    "version": 3
   },
   "file_extension": ".py",
   "mimetype": "text/x-python",
   "name": "python",
   "nbconvert_exporter": "python",
   "pygments_lexer": "ipython3",
   "version": "3.9.12"
  },
  "orig_nbformat": 4,
  "vscode": {
   "interpreter": {
    "hash": "a077222d77dfe082b8f1dd562ad70e458ac2ab76993a0b248ab0476e32e9e8dd"
   }
  }
 },
 "nbformat": 4,
 "nbformat_minor": 2
}
