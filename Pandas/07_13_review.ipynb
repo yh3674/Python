{
 "cells": [
  {
   "cell_type": "code",
   "execution_count": 2,
   "metadata": {},
   "outputs": [],
   "source": [
    "import pandas as pd \n",
    "import numpy as np"
   ]
  },
  {
   "cell_type": "code",
   "execution_count": 3,
   "metadata": {},
   "outputs": [],
   "source": [
    "# 1반의 중간고사 평균성적을 Series로 생성"
   ]
  },
  {
   "cell_type": "code",
   "execution_count": 4,
   "metadata": {},
   "outputs": [
    {
     "data": {
      "text/plain": [
       "국어    75\n",
       "영어    80\n",
       "수학    90\n",
       "과학    95\n",
       "사회    70\n",
       "dtype: int64"
      ]
     },
     "execution_count": 4,
     "metadata": {},
     "output_type": "execute_result"
    }
   ],
   "source": [
    "mid_score = pd.Series([75,80,90,95,70],\n",
    "                    index = ['국어','영어','수학','과학','사회'])\n",
    "mid_score"
   ]
  },
  {
   "cell_type": "code",
   "execution_count": 5,
   "metadata": {},
   "outputs": [
    {
     "data": {
      "text/plain": [
       "과목\n",
       "국어    75\n",
       "영어    80\n",
       "수학    90\n",
       "과학    95\n",
       "사회    70\n",
       "Name: Mid-term Scores, dtype: int64"
      ]
     },
     "execution_count": 5,
     "metadata": {},
     "output_type": "execute_result"
    }
   ],
   "source": [
    "mid_score.name = 'Mid-term Scores'\n",
    "mid_score.index.name = '과목'\n",
    "\n",
    "mid_score"
   ]
  },
  {
   "cell_type": "code",
   "execution_count": 10,
   "metadata": {},
   "outputs": [
    {
     "name": "stdout",
     "output_type": "stream",
     "text": [
      "과목\n",
      "국어    75\n",
      "영어    80\n",
      "수학    90\n",
      "Name: Mid-term Scores, dtype: int64\n"
     ]
    }
   ],
   "source": [
    "print(mid_score[:'수학'])"
   ]
  },
  {
   "cell_type": "code",
   "execution_count": 7,
   "metadata": {},
   "outputs": [
    {
     "data": {
      "text/plain": [
       "과목\n",
       "수학    90\n",
       "과학    95\n",
       "Name: Mid-term Scores, dtype: int64"
      ]
     },
     "execution_count": 7,
     "metadata": {},
     "output_type": "execute_result"
    }
   ],
   "source": [
    "mid_score[(mid_score>=85)]"
   ]
  },
  {
   "cell_type": "code",
   "execution_count": 8,
   "metadata": {},
   "outputs": [
    {
     "data": {
      "text/plain": [
       "과목\n",
       "영어    80\n",
       "수학    90\n",
       "Name: Mid-term Scores, dtype: int64"
      ]
     },
     "execution_count": 8,
     "metadata": {},
     "output_type": "execute_result"
    }
   ],
   "source": [
    "mid_score[(mid_score>=80) & (mid_score<=90)]"
   ]
  },
  {
   "cell_type": "code",
   "execution_count": 9,
   "metadata": {},
   "outputs": [
    {
     "name": "stdout",
     "output_type": "stream",
     "text": [
      "합계점수 : 410\n",
      "평균점수 : 82.0\n",
      "최대값:  95\n"
     ]
    }
   ],
   "source": [
    "# mid_score_total = mid_score.sum()\n",
    "# mid_score_avg = mid_score.mean()\n",
    "\n",
    "# mid_score_max = mid_score.max()\n",
    "\n",
    "# print('합계점수 :' ,mid_score_total)\n",
    "# print('평균점수 :' ,mid_score_avg)\n",
    "# print('최대값: ',mid_score_max)\n",
    "\n",
    "print('합계점수 :' ,np.sum(mid_score))\n",
    "print('평균점수 :' ,np.mean(mid_score))\n",
    "print('최대값: ',np.max(mid_score))\n"
   ]
  }
 ],
 "metadata": {
  "kernelspec": {
   "display_name": "Python 3.9.12 ('base')",
   "language": "python",
   "name": "python3"
  },
  "language_info": {
   "codemirror_mode": {
    "name": "ipython",
    "version": 3
   },
   "file_extension": ".py",
   "mimetype": "text/x-python",
   "name": "python",
   "nbconvert_exporter": "python",
   "pygments_lexer": "ipython3",
   "version": "3.9.12"
  },
  "orig_nbformat": 4,
  "vscode": {
   "interpreter": {
    "hash": "a077222d77dfe082b8f1dd562ad70e458ac2ab76993a0b248ab0476e32e9e8dd"
   }
  }
 },
 "nbformat": 4,
 "nbformat_minor": 2
}
