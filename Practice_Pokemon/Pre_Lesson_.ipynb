{
 "cells": [
  {
   "cell_type": "markdown",
   "metadata": {},
   "source": [
    "## Practice\n"
   ]
  },
  {
   "cell_type": "code",
   "execution_count": 1,
   "metadata": {},
   "outputs": [],
   "source": [
    "datafilePath = \"Python/Practice_Pokemon/pokemon_data.txt\"\n",
    "indexfilePath = \"Python/Practice_Pokemon/pokemon_index.txt\""
   ]
  },
  {
   "cell_type": "code",
   "execution_count": 1,
   "metadata": {},
   "outputs": [
    {
     "ename": "NameError",
     "evalue": "name 'datafilePath' is not defined",
     "output_type": "error",
     "traceback": [
      "\u001b[1;31m---------------------------------------------------------------------------\u001b[0m",
      "\u001b[1;31mNameError\u001b[0m                                 Traceback (most recent call last)",
      "Cell \u001b[1;32mIn [1], line 9\u001b[0m\n\u001b[0;32m      1\u001b[0m \u001b[38;5;66;03m# 1. indexfile read ==> Creating a list with names of pokemon\u001b[39;00m\n\u001b[0;32m      2\u001b[0m \u001b[38;5;66;03m# 2. 포켓몬 이름이 있는 리스트와 동일한 길이의 리스트 create, 0으로 reset\u001b[39;00m\n\u001b[0;32m      3\u001b[0m \u001b[38;5;66;03m# 3.Data file read => while 반복문으로 돌리면서 해당 포켓몬이 들어있는 값 얻기\u001b[39;00m\n\u001b[0;32m      4\u001b[0m \u001b[38;5;66;03m# 4. 0으로 reset된 list d위에서 찾았던 index 번호에 -1\u001b[39;00m\n\u001b[0;32m      5\u001b[0m \u001b[38;5;66;03m# Print\u001b[39;00m\n\u001b[0;32m      7\u001b[0m pokemon_name_list \u001b[38;5;241m=\u001b[39m \u001b[38;5;28mlist\u001b[39m()\n\u001b[1;32m----> 9\u001b[0m fstream \u001b[38;5;241m=\u001b[39m \u001b[38;5;28mopen\u001b[39m(\u001b[43mdatafilePath\u001b[49m) \u001b[38;5;66;03m# In case of data written in Korea, must ,encoding utf-8\u001b[39;00m\n\u001b[0;32m     10\u001b[0m temp_list \u001b[38;5;241m=\u001b[39m fstream\u001b[38;5;241m.\u001b[39mreadlines()\n\u001b[0;32m     11\u001b[0m \u001b[38;5;28mprint\u001b[39m(temp_list)\n",
      "\u001b[1;31mNameError\u001b[0m: name 'datafilePath' is not defined"
     ]
    }
   ],
   "source": [
    "# 1. indexfile read ==> Creating a list with names of pokemon\n",
    "# 2. 포켓몬 이름이 있는 리스트와 동일한 길이의 리스트 create, 0으로 reset\n",
    "# 3.Data file read => while 반복문으로 돌리면서 해당 포켓몬이 들어있는 값 얻기\n",
    "# 4. 0으로 reset된 list d위에서 찾았던 index 번호에 -1\n",
    "# Print\n",
    "\n",
    "pokemon_name_list = list()\n",
    "\n",
    "fstream = open(datafilePath) # In case of data written in Korea, must ,encoding utf-8\n",
    "temp_list = fstream.readlines()\n",
    "print(temp_list)\n",
    "\n",
    "fstream.close()\n",
    "\n"
   ]
  }
 ],
 "metadata": {
  "kernelspec": {
   "display_name": "Python 3.10.6 64-bit",
   "language": "python",
   "name": "python3"
  },
  "language_info": {
   "codemirror_mode": {
    "name": "ipython",
    "version": 3
   },
   "file_extension": ".py",
   "mimetype": "text/x-python",
   "name": "python",
   "nbconvert_exporter": "python",
   "pygments_lexer": "ipython3",
   "version": "3.10.6"
  },
  "orig_nbformat": 4,
  "vscode": {
   "interpreter": {
    "hash": "fb4569285eef3a3450cb62085a5b1e0da4bce0af555edc33dcf29baf3acc1368"
   }
  }
 },
 "nbformat": 4,
 "nbformat_minor": 2
}
